print('예비닙니당')

